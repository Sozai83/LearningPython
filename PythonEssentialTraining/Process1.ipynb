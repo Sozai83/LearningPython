{
 "cells": [
  {
   "cell_type": "code",
   "execution_count": 1,
   "id": "3b345f87-245c-4219-8de3-9018554d1599",
   "metadata": {},
   "outputs": [],
   "source": [
    "from multiprocess import Process\n",
    "import time"
   ]
  },
  {
   "cell_type": "code",
   "execution_count": 2,
   "id": "cd965e85-568d-40ed-98af-3dd269d44c0c",
   "metadata": {},
   "outputs": [],
   "source": [
    "## Process"
   ]
  },
  {
   "cell_type": "code",
   "execution_count": 11,
   "id": "b00c012f-5036-4bdc-9440-593fbd35d2c5",
   "metadata": {},
   "outputs": [
    {
     "name": "stdout",
     "output_type": "stream",
     "text": [
      "{}\n"
     ]
    }
   ],
   "source": [
    "def longSquare(n, results):\n",
    "    time.sleep(1)\n",
    "    print(n ** 2)\n",
    "    print('Finished computing')\n",
    "\n",
    "results = {}\n",
    "p1 = Process(target=longSquare, args=(1,results))\n",
    "p2 = Process(target=longSquare, args=(2,results))\n",
    "\n",
    "p1.start()\n",
    "p2.start()\n",
    "\n",
    "p1.join()\n",
    "p2.join()\n",
    "\n",
    "print(results)"
   ]
  },
  {
   "cell_type": "code",
   "execution_count": null,
   "id": "06c1187a-48e8-419f-9cff-fe076f58d09a",
   "metadata": {},
   "outputs": [],
   "source": []
  },
  {
   "cell_type": "code",
   "execution_count": null,
   "id": "9ae2d3a2-da85-473b-af00-aa0254b11fe9",
   "metadata": {},
   "outputs": [],
   "source": []
  },
  {
   "cell_type": "code",
   "execution_count": null,
   "id": "3dc9e7d1-2c9c-4dff-8124-70bb00127406",
   "metadata": {},
   "outputs": [],
   "source": []
  },
  {
   "cell_type": "code",
   "execution_count": null,
   "id": "7036f0f9-ce7f-4cb7-b7a5-bb57e709ca52",
   "metadata": {},
   "outputs": [],
   "source": []
  },
  {
   "cell_type": "code",
   "execution_count": null,
   "id": "776f4bf7-1db0-4c45-8c9e-4481d166597c",
   "metadata": {},
   "outputs": [],
   "source": []
  },
  {
   "cell_type": "code",
   "execution_count": null,
   "id": "bec2e74c-0769-40bf-bdcb-ff49958df884",
   "metadata": {},
   "outputs": [],
   "source": []
  },
  {
   "cell_type": "code",
   "execution_count": null,
   "id": "3325d141-db6a-4f22-92e3-c7f02d3c0eac",
   "metadata": {},
   "outputs": [],
   "source": []
  }
 ],
 "metadata": {
  "kernelspec": {
   "display_name": "Python 3 (ipykernel)",
   "language": "python",
   "name": "python3"
  },
  "language_info": {
   "codemirror_mode": {
    "name": "ipython",
    "version": 3
   },
   "file_extension": ".py",
   "mimetype": "text/x-python",
   "name": "python",
   "nbconvert_exporter": "python",
   "pygments_lexer": "ipython3",
   "version": "3.11.0"
  }
 },
 "nbformat": 4,
 "nbformat_minor": 5
}
