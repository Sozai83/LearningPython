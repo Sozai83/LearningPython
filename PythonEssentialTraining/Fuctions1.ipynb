{
 "cells": [
  {
   "cell_type": "code",
   "execution_count": 23,
   "id": "90ab4742-813f-408d-9222-7d152bdce56b",
   "metadata": {},
   "outputs": [],
   "source": [
    "import math"
   ]
  },
  {
   "cell_type": "code",
   "execution_count": 6,
   "id": "c2ae3e55-1c34-4138-ad49-62b8f10d70c7",
   "metadata": {},
   "outputs": [
    {
     "data": {
      "text/plain": [
       "2"
      ]
     },
     "execution_count": 6,
     "metadata": {},
     "output_type": "execute_result"
    }
   ],
   "source": [
    "def performOperation(num1, num2, operation = \"sum\", message=\"default message\"):\n",
    "    if operation == 'sum':\n",
    "        return num1+ num2\n",
    "    if operation == 'multiply':\n",
    "        return num1 * num2\n",
    "\n",
    "performOperation(1,2, message=\"helllo\", operation='multiply')\n"
   ]
  },
  {
   "cell_type": "code",
   "execution_count": 10,
   "id": "e18d0b8d-2862-4716-bdc4-cd710dd2aa86",
   "metadata": {},
   "outputs": [
    {
     "data": {
      "text/plain": [
       "3"
      ]
     },
     "execution_count": 10,
     "metadata": {},
     "output_type": "execute_result"
    }
   ],
   "source": [
    "\n",
    "performOperation(1,2)\n"
   ]
  },
  {
   "cell_type": "markdown",
   "id": "23226d54-9cb0-4928-984d-979a2647bd07",
   "metadata": {},
   "source": [
    "*args"
   ]
  },
  {
   "cell_type": "code",
   "execution_count": 16,
   "id": "8c49a3e7-6666-4978-af6e-9fa530f90c09",
   "metadata": {},
   "outputs": [
    {
     "name": "stdout",
     "output_type": "stream",
     "text": [
      "(1, 2, 3)\n"
     ]
    }
   ],
   "source": [
    "def performOperation2(*args):\n",
    "    print(args)\n",
    "\n",
    "performOperation2(1,2,3)"
   ]
  },
  {
   "cell_type": "markdown",
   "id": "257aba5a-a536-41c8-90f7-aad5a8372e84",
   "metadata": {},
   "source": [
    "**kwargs"
   ]
  },
  {
   "cell_type": "code",
   "execution_count": 14,
   "id": "519df0e6-f287-4c17-a981-ef6b040e23d4",
   "metadata": {},
   "outputs": [
    {
     "name": "stdout",
     "output_type": "stream",
     "text": [
      "(1, 2, 3)\n",
      "{'operation': 'sum'}\n"
     ]
    }
   ],
   "source": [
    "def performOperation3(*args, **kwargs):\n",
    "    print(args)\n",
    "    print(kwargs)\n",
    "\n",
    "performOperation3(1,2,3, operation=\"sum\")"
   ]
  },
  {
   "cell_type": "code",
   "execution_count": 24,
   "id": "a30ec09e-e99a-40de-9d37-88e9739e0897",
   "metadata": {},
   "outputs": [
    {
     "data": {
      "text/plain": [
       "18"
      ]
     },
     "execution_count": 24,
     "metadata": {},
     "output_type": "execute_result"
    }
   ],
   "source": [
    "def performOperation4(*args, operation='sum'):\n",
    "    if operation == 'sum':\n",
    "        return sum(args)\n",
    "    if operation == 'multiply':\n",
    "        return math.prod(args)\n",
    "\n",
    "\n",
    "performOperation4(1,2,4,5,6, operation='sum')"
   ]
  },
  {
   "cell_type": "markdown",
   "id": "13d9d13e-b347-4d07-a14f-2ba28867c0b9",
   "metadata": {},
   "source": [
    "Locals()"
   ]
  },
  {
   "cell_type": "code",
   "execution_count": 26,
   "id": "8a598803-f62d-4f9c-8ae6-443259056cdd",
   "metadata": {},
   "outputs": [
    {
     "name": "stdout",
     "output_type": "stream",
     "text": [
      "{'num1': 1, 'num2': 2, 'operation': 'multiply'}\n"
     ]
    }
   ],
   "source": [
    "def performOperation5(num1, num2, operation='sum'): \n",
    "    print(locals())\n",
    "\n",
    "performOperation5(1,2, operation='multiply')\n"
   ]
  },
  {
   "cell_type": "markdown",
   "id": "1467a3d1-9136-49d8-95a5-a61ff65da507",
   "metadata": {},
   "source": [
    "Globals"
   ]
  },
  {
   "cell_type": "code",
   "execution_count": 27,
   "id": "ca06a83a-5703-4fee-9250-0dd0e915875a",
   "metadata": {},
   "outputs": [
    {
     "data": {
      "text/plain": [
       "{'__name__': '__main__',\n",
       " '__doc__': 'Automatically created module for IPython interactive environment',\n",
       " '__package__': None,\n",
       " '__loader__': None,\n",
       " '__spec__': None,\n",
       " '__builtin__': <module 'builtins' (built-in)>,\n",
       " '__builtins__': <module 'builtins' (built-in)>,\n",
       " '_ih': ['',\n",
       "  \"def performOperation(num1, num2, operation):\\n    if operation == 'sum':\\n        return num1+ num2\\n    if operation == 'multiply':\\n        return num1 * num2\\n\\nperfromOperation(1,2, 'sum')\",\n",
       "  \"def performOperation(num1, num2, operation):\\n    if operation == 'sum':\\n        return num1+ num2\\n    if operation == 'multiply':\\n        return num1 * num2\\n\\nperformOperation(1,2, 'sum')\",\n",
       "  'def performOperation(num1, num2, operation = \"sum\"):\\n    if operation == \\'sum\\':\\n        return num1+ num2\\n    if operation == \\'multiply\\':\\n        return num1 * num2\\n\\nperformOperation(1,2, \\'sum\\')',\n",
       "  'performOperation(1,2)',\n",
       "  'def performOperation(num1, num2, operation = \"sum\", message=\"default message\"):\\n    if operation == \\'sum\\':\\n        return num1+ num2\\n    if operation == \\'multiply\\':\\n        return num1 * num2\\n\\nperformOperation(1,2, message=\"helllo\", operation=\\'multiply\\')',\n",
       "  'def performOperation(num1, num2, operation = \"sum\", message=\"default message\"):\\n    if operation == \\'sum\\':\\n        return num1+ num2\\n    if operation == \\'multiply\\':\\n        return num1 * num2\\n\\nperformOperation(1,2, message=\"helllo\", operation=\\'multiply\\')',\n",
       "  'performOperation(1,2)',\n",
       "  'performOperation(1,2, , message=\"hello\")',\n",
       "  'performOperation(1,2)/',\n",
       "  'performOperation(1,2)',\n",
       "  'def performOperation2(*args):\\n    print(args)\\n\\nperformOperation2(1,2,3)',\n",
       "  'def performOperation3(*args, **kwargs):\\n    print(args)\\n    print(kwargs)\\n\\nperformOperation2(1,2,3, operation=\"sum\")',\n",
       "  'def performOperation3(*args, **kwargs):\\n    print(args)\\n    print(kwargs)\\n\\nperformOperation2(1,2,3, operation=\"sum\")',\n",
       "  'def performOperation3(*args, **kwargs):\\n    print(args)\\n    print(kwargs)\\n\\nperformOperation3(1,2,3, operation=\"sum\")',\n",
       "  'def performOperation2(*tests):\\n    print(tests)\\n\\nperformOperation2(1,2,3)',\n",
       "  'def performOperation2(*args):\\n    print(args)\\n\\nperformOperation2(1,2,3)',\n",
       "  \"def performOperation3(*args, operation='sum):\\n    if operation == 'sum':\\n        return math.sum(args)\\n    if operation == 'multiply':\\n        return math.prod(args)\",\n",
       "  \"def performOperation3(*args, operation='sum'):\\n    if operation == 'sum':\\n        return math.sum(args)\\n    if operation == 'multiply':\\n        return math.prod(args)\",\n",
       "  \"def performOperation4(*args, operation='sum'):\\n    if operation == 'sum':\\n        return math.sum(args)\\n    if operation == 'multiply':\\n        return math.prod(args)\\n\\n\\nperformOperation4(1,2,4,5,6)\",\n",
       "  \"def performOperation4(*args, operation='sum'):\\n    if operation == 'sum':\\n        return sum(args)\\n    if operation == 'multiply':\\n        return math.prod(args)\\n\\n\\nperformOperation4(1,2,4,5,6)\",\n",
       "  \"def performOperation4(*args, operation='sum'):\\n    if operation == 'sum':\\n        return sum(args)\\n    if operation == 'multiply':\\n        return math.prod(args)\\n\\n\\nperformOperation4(1,2,4,5,6, operation='multiply')\",\n",
       "  'import math from default',\n",
       "  'import math',\n",
       "  \"def performOperation4(*args, operation='sum'):\\n    if operation == 'sum':\\n        return sum(args)\\n    if operation == 'multiply':\\n        return math.prod(args)\\n\\n\\nperformOperation4(1,2,4,5,6, operation='sum')\",\n",
       "  \"def performOperation5(num1, num2, operation='sum'): \\n    print(locals())\\n\\nperformOperation(1,2, operation='multiply')\",\n",
       "  \"def performOperation5(num1, num2, operation='sum'): \\n    print(locals())\\n\\nperformOperation5(1,2, operation='multiply')\",\n",
       "  'globals()'],\n",
       " '_oh': {2: 3, 3: 3, 4: 3, 5: 2, 6: 2, 7: 3, 10: 3, 20: 18, 24: 18, 25: 2},\n",
       " '_dh': [WindowsPath('C:/Users/chiku/Documents/Github2023/LearningPython/PythonEssentialTraining')],\n",
       " 'In': ['',\n",
       "  \"def performOperation(num1, num2, operation):\\n    if operation == 'sum':\\n        return num1+ num2\\n    if operation == 'multiply':\\n        return num1 * num2\\n\\nperfromOperation(1,2, 'sum')\",\n",
       "  \"def performOperation(num1, num2, operation):\\n    if operation == 'sum':\\n        return num1+ num2\\n    if operation == 'multiply':\\n        return num1 * num2\\n\\nperformOperation(1,2, 'sum')\",\n",
       "  'def performOperation(num1, num2, operation = \"sum\"):\\n    if operation == \\'sum\\':\\n        return num1+ num2\\n    if operation == \\'multiply\\':\\n        return num1 * num2\\n\\nperformOperation(1,2, \\'sum\\')',\n",
       "  'performOperation(1,2)',\n",
       "  'def performOperation(num1, num2, operation = \"sum\", message=\"default message\"):\\n    if operation == \\'sum\\':\\n        return num1+ num2\\n    if operation == \\'multiply\\':\\n        return num1 * num2\\n\\nperformOperation(1,2, message=\"helllo\", operation=\\'multiply\\')',\n",
       "  'def performOperation(num1, num2, operation = \"sum\", message=\"default message\"):\\n    if operation == \\'sum\\':\\n        return num1+ num2\\n    if operation == \\'multiply\\':\\n        return num1 * num2\\n\\nperformOperation(1,2, message=\"helllo\", operation=\\'multiply\\')',\n",
       "  'performOperation(1,2)',\n",
       "  'performOperation(1,2, , message=\"hello\")',\n",
       "  'performOperation(1,2)/',\n",
       "  'performOperation(1,2)',\n",
       "  'def performOperation2(*args):\\n    print(args)\\n\\nperformOperation2(1,2,3)',\n",
       "  'def performOperation3(*args, **kwargs):\\n    print(args)\\n    print(kwargs)\\n\\nperformOperation2(1,2,3, operation=\"sum\")',\n",
       "  'def performOperation3(*args, **kwargs):\\n    print(args)\\n    print(kwargs)\\n\\nperformOperation2(1,2,3, operation=\"sum\")',\n",
       "  'def performOperation3(*args, **kwargs):\\n    print(args)\\n    print(kwargs)\\n\\nperformOperation3(1,2,3, operation=\"sum\")',\n",
       "  'def performOperation2(*tests):\\n    print(tests)\\n\\nperformOperation2(1,2,3)',\n",
       "  'def performOperation2(*args):\\n    print(args)\\n\\nperformOperation2(1,2,3)',\n",
       "  \"def performOperation3(*args, operation='sum):\\n    if operation == 'sum':\\n        return math.sum(args)\\n    if operation == 'multiply':\\n        return math.prod(args)\",\n",
       "  \"def performOperation3(*args, operation='sum'):\\n    if operation == 'sum':\\n        return math.sum(args)\\n    if operation == 'multiply':\\n        return math.prod(args)\",\n",
       "  \"def performOperation4(*args, operation='sum'):\\n    if operation == 'sum':\\n        return math.sum(args)\\n    if operation == 'multiply':\\n        return math.prod(args)\\n\\n\\nperformOperation4(1,2,4,5,6)\",\n",
       "  \"def performOperation4(*args, operation='sum'):\\n    if operation == 'sum':\\n        return sum(args)\\n    if operation == 'multiply':\\n        return math.prod(args)\\n\\n\\nperformOperation4(1,2,4,5,6)\",\n",
       "  \"def performOperation4(*args, operation='sum'):\\n    if operation == 'sum':\\n        return sum(args)\\n    if operation == 'multiply':\\n        return math.prod(args)\\n\\n\\nperformOperation4(1,2,4,5,6, operation='multiply')\",\n",
       "  'import math from default',\n",
       "  'import math',\n",
       "  \"def performOperation4(*args, operation='sum'):\\n    if operation == 'sum':\\n        return sum(args)\\n    if operation == 'multiply':\\n        return math.prod(args)\\n\\n\\nperformOperation4(1,2,4,5,6, operation='sum')\",\n",
       "  \"def performOperation5(num1, num2, operation='sum'): \\n    print(locals())\\n\\nperformOperation(1,2, operation='multiply')\",\n",
       "  \"def performOperation5(num1, num2, operation='sum'): \\n    print(locals())\\n\\nperformOperation5(1,2, operation='multiply')\",\n",
       "  'globals()'],\n",
       " 'Out': {2: 3, 3: 3, 4: 3, 5: 2, 6: 2, 7: 3, 10: 3, 20: 18, 24: 18, 25: 2},\n",
       " 'get_ipython': <bound method InteractiveShell.get_ipython of <ipykernel.zmqshell.ZMQInteractiveShell object at 0x0000019FCD4A0ED0>>,\n",
       " 'exit': <IPython.core.autocall.ZMQExitAutocall at 0x19fcd4a98d0>,\n",
       " 'quit': <IPython.core.autocall.ZMQExitAutocall at 0x19fcd4a98d0>,\n",
       " 'open': <function io.open(file, mode='r', buffering=-1, encoding=None, errors=None, newline=None, closefd=True, opener=None)>,\n",
       " '_': 2,\n",
       " '__': 18,\n",
       " '___': 18,\n",
       " '__session__': 'C:\\\\Users\\\\chiku\\\\Documents\\\\Github2023\\\\LearningPython\\\\PythonEssentialTraining\\\\Untitled.ipynb',\n",
       " '_i': \"def performOperation5(num1, num2, operation='sum'): \\n    print(locals())\\n\\nperformOperation5(1,2, operation='multiply')\",\n",
       " '_ii': \"def performOperation5(num1, num2, operation='sum'): \\n    print(locals())\\n\\nperformOperation(1,2, operation='multiply')\",\n",
       " '_iii': \"def performOperation4(*args, operation='sum'):\\n    if operation == 'sum':\\n        return sum(args)\\n    if operation == 'multiply':\\n        return math.prod(args)\\n\\n\\nperformOperation4(1,2,4,5,6, operation='sum')\",\n",
       " '_i1': \"def performOperation(num1, num2, operation):\\n    if operation == 'sum':\\n        return num1+ num2\\n    if operation == 'multiply':\\n        return num1 * num2\\n\\nperfromOperation(1,2, 'sum')\",\n",
       " 'performOperation': <function __main__.performOperation(num1, num2, operation='sum', message='default message')>,\n",
       " '_i2': \"def performOperation(num1, num2, operation):\\n    if operation == 'sum':\\n        return num1+ num2\\n    if operation == 'multiply':\\n        return num1 * num2\\n\\nperformOperation(1,2, 'sum')\",\n",
       " '_2': 3,\n",
       " '_i3': 'def performOperation(num1, num2, operation = \"sum\"):\\n    if operation == \\'sum\\':\\n        return num1+ num2\\n    if operation == \\'multiply\\':\\n        return num1 * num2\\n\\nperformOperation(1,2, \\'sum\\')',\n",
       " '_3': 3,\n",
       " '_i4': '\\nperformOperation(1,2)',\n",
       " '_4': 3,\n",
       " '_i5': 'def performOperation(num1, num2, operation = \"sum\", message=\"default message\"):\\n    if operation == \\'sum\\':\\n        return num1+ num2\\n    if operation == \\'multiply\\':\\n        return num1 * num2\\n\\nperformOperation(1,2, message=\"helllo\", operation=\\'multiply\\')',\n",
       " '_5': 2,\n",
       " '_i6': 'def performOperation(num1, num2, operation = \"sum\", message=\"default message\"):\\n    if operation == \\'sum\\':\\n        return num1+ num2\\n    if operation == \\'multiply\\':\\n        return num1 * num2\\n\\nperformOperation(1,2, message=\"helllo\", operation=\\'multiply\\')',\n",
       " '_6': 2,\n",
       " '_i7': '\\nperformOperation(1,2)',\n",
       " '_7': 3,\n",
       " '_i8': '\\nperformOperation(1,2, , message=\"hello\")',\n",
       " '_i9': '\\nperformOperation(1,2)/',\n",
       " '_i10': '\\nperformOperation(1,2)',\n",
       " '_10': 3,\n",
       " '_i11': 'def performOperation2(*args):\\n    print(args)\\n\\nperformOperation2(1,2,3)',\n",
       " 'performOperation2': <function __main__.performOperation2(*args)>,\n",
       " '_i12': 'def performOperation3(*args, **kwargs):\\n    print(args)\\n    print(kwargs)\\n\\nperformOperation2(1,2,3, operation=\"sum\")',\n",
       " 'performOperation3': <function __main__.performOperation3(*args, operation='sum')>,\n",
       " '_i13': 'def performOperation3(*args, **kwargs):\\n    print(args)\\n    print(kwargs)\\n\\nperformOperation2(1,2,3, operation=\"sum\")',\n",
       " '_i14': 'def performOperation3(*args, **kwargs):\\n    print(args)\\n    print(kwargs)\\n\\nperformOperation3(1,2,3, operation=\"sum\")',\n",
       " '_i15': 'def performOperation2(*tests):\\n    print(tests)\\n\\nperformOperation2(1,2,3)',\n",
       " '_i16': 'def performOperation2(*args):\\n    print(args)\\n\\nperformOperation2(1,2,3)',\n",
       " '_i17': \"def performOperation3(*args, operation='sum):\\n    if operation == 'sum':\\n        return math.sum(args)\\n    if operation == 'multiply':\\n        return math.prod(args)\",\n",
       " '_i18': \"def performOperation3(*args, operation='sum'):\\n    if operation == 'sum':\\n        return math.sum(args)\\n    if operation == 'multiply':\\n        return math.prod(args)\",\n",
       " '_i19': \"def performOperation4(*args, operation='sum'):\\n    if operation == 'sum':\\n        return math.sum(args)\\n    if operation == 'multiply':\\n        return math.prod(args)\\n\\n\\nperformOperation4(1,2,4,5,6)\",\n",
       " 'performOperation4': <function __main__.performOperation4(*args, operation='sum')>,\n",
       " '_i20': \"def performOperation4(*args, operation='sum'):\\n    if operation == 'sum':\\n        return sum(args)\\n    if operation == 'multiply':\\n        return math.prod(args)\\n\\n\\nperformOperation4(1,2,4,5,6)\",\n",
       " '_20': 18,\n",
       " '_i21': \"def performOperation4(*args, operation='sum'):\\n    if operation == 'sum':\\n        return sum(args)\\n    if operation == 'multiply':\\n        return math.prod(args)\\n\\n\\nperformOperation4(1,2,4,5,6, operation='multiply')\",\n",
       " '_i22': 'import math from default',\n",
       " '_i23': 'import math',\n",
       " 'math': <module 'math' (built-in)>,\n",
       " '_i24': \"def performOperation4(*args, operation='sum'):\\n    if operation == 'sum':\\n        return sum(args)\\n    if operation == 'multiply':\\n        return math.prod(args)\\n\\n\\nperformOperation4(1,2,4,5,6, operation='sum')\",\n",
       " '_24': 18,\n",
       " '_i25': \"def performOperation5(num1, num2, operation='sum'): \\n    print(locals())\\n\\nperformOperation(1,2, operation='multiply')\",\n",
       " 'performOperation5': <function __main__.performOperation5(num1, num2, operation='sum')>,\n",
       " '_25': 2,\n",
       " '_i26': \"def performOperation5(num1, num2, operation='sum'): \\n    print(locals())\\n\\nperformOperation5(1,2, operation='multiply')\",\n",
       " '_i27': 'globals()'}"
      ]
     },
     "execution_count": 27,
     "metadata": {},
     "output_type": "execute_result"
    }
   ],
   "source": [
    "globals()"
   ]
  },
  {
   "cell_type": "code",
   "execution_count": 32,
   "id": "9a454303-c134-4050-89df-92a2a90d1b91",
   "metadata": {},
   "outputs": [
    {
     "name": "stdout",
     "output_type": "stream",
     "text": [
      "1\n",
      "message - global data\n",
      "{'varA': 1, 'varB': 2}\n",
      "2\n",
      "message - global data\n",
      "{'varC': 3, 'varD': 4}\n"
     ]
    }
   ],
   "source": [
    "message = 'message - global data'\n",
    "varA = 2\n",
    "\n",
    "def fucntion1(varA, varB):\n",
    "    print(varA)\n",
    "    print(message)\n",
    "    print(locals())\n",
    "\n",
    "def function2(varC, varD):\n",
    "    print(varA)\n",
    "    print(message)\n",
    "    print(locals())\n",
    "\n",
    "fucntion1(1,2)\n",
    "function2(3,4)"
   ]
  },
  {
   "cell_type": "code",
   "execution_count": 33,
   "id": "2e3558a6-83c1-4963-816d-7e0f8cf996af",
   "metadata": {},
   "outputs": [
    {
     "name": "stdout",
     "output_type": "stream",
     "text": [
      "()\n",
      "b'\\x97\\x00d\\x01S\\x00'\n"
     ]
    }
   ],
   "source": [
    "x=5\n",
    "def x():\n",
    "    return 5\n",
    "\n",
    "print(x.__code__.co_varnames)\n",
    "print(x.__code__.co_code)\n"
   ]
  },
  {
   "cell_type": "markdown",
   "id": "e10cd0cd-d103-49fe-8598-19e5fd556c10",
   "metadata": {},
   "source": [
    "Lambda functions"
   ]
  },
  {
   "cell_type": "code",
   "execution_count": 34,
   "id": "0c972184-de73-4f9c-9ff7-4d902ae08365",
   "metadata": {},
   "outputs": [
    {
     "data": {
      "text/plain": [
       "5"
      ]
     },
     "execution_count": 34,
     "metadata": {},
     "output_type": "execute_result"
    }
   ],
   "source": [
    "2+3"
   ]
  },
  {
   "cell_type": "code",
   "execution_count": 35,
   "id": "dd63ed8a-caf9-4233-9a16-47adc30f3c8a",
   "metadata": {},
   "outputs": [
    {
     "data": {
      "text/plain": [
       "7"
      ]
     },
     "execution_count": 35,
     "metadata": {},
     "output_type": "execute_result"
    }
   ],
   "source": [
    "(lambda x: x + 3)(4)"
   ]
  },
  {
   "cell_type": "code",
   "execution_count": null,
   "id": "7bb7cc69-32b5-4770-9e7a-e3c4198e8cc5",
   "metadata": {},
   "outputs": [],
   "source": []
  }
 ],
 "metadata": {
  "kernelspec": {
   "display_name": "Python 3 (ipykernel)",
   "language": "python",
   "name": "python3"
  },
  "language_info": {
   "codemirror_mode": {
    "name": "ipython",
    "version": 3
   },
   "file_extension": ".py",
   "mimetype": "text/x-python",
   "name": "python",
   "nbconvert_exporter": "python",
   "pygments_lexer": "ipython3",
   "version": "3.11.0"
  }
 },
 "nbformat": 4,
 "nbformat_minor": 5
}
