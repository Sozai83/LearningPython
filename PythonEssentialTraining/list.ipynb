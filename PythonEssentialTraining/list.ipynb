{
 "cells": [
  {
   "cell_type": "markdown",
   "id": "ed1cfe53-5694-4c45-8f0f-9a45ee22c9a4",
   "metadata": {},
   "source": [
    "### list Comprehensions\n"
   ]
  },
  {
   "cell_type": "code",
   "execution_count": 1,
   "id": "71c461f6-b12d-4f77-b008-d649034cc24c",
   "metadata": {},
   "outputs": [
    {
     "data": {
      "text/plain": [
       "[2, 4, 6, 8, 10]"
      ]
     },
     "execution_count": 1,
     "metadata": {},
     "output_type": "execute_result"
    }
   ],
   "source": [
    "myList = [1,2,3,4,5]\n",
    "[2*item for item in myList]"
   ]
  },
  {
   "cell_type": "code",
   "execution_count": 2,
   "id": "8e743d3c-001e-490e-9a6c-93b758679abb",
   "metadata": {},
   "outputs": [],
   "source": [
    "myList = list(range(100))\n",
    "filteredList = [item for item in myList if item%10 == 0]"
   ]
  },
  {
   "cell_type": "code",
   "execution_count": 3,
   "id": "463952a1-d2bc-49ff-9946-3e8e74868be7",
   "metadata": {},
   "outputs": [
    {
     "data": {
      "text/plain": [
       "[0, 10, 20, 30, 40, 50, 60, 70, 80, 90]"
      ]
     },
     "execution_count": 3,
     "metadata": {},
     "output_type": "execute_result"
    }
   ],
   "source": [
    "filteredList"
   ]
  },
  {
   "cell_type": "code",
   "execution_count": 4,
   "id": "4cb6f145-9cc0-4369-8cef-c2ef2baa26dc",
   "metadata": {},
   "outputs": [],
   "source": [
    "filteredList = [item for item in myList if item % 10 < 3]"
   ]
  },
  {
   "cell_type": "code",
   "execution_count": 7,
   "id": "2a1418af-c720-4248-8a28-e28d6d91e0f4",
   "metadata": {},
   "outputs": [
    {
     "name": "stdout",
     "output_type": "stream",
     "text": [
      "[0, 1, 2, 10, 11, 12, 20, 21, 22, 30, 31, 32, 40, 41, 42, 50, 51, 52, 60, 61, 62, 70, 71, 72, 80, 81, 82, 90, 91, 92]\n"
     ]
    }
   ],
   "source": [
    "print(filteredList)"
   ]
  },
  {
   "cell_type": "code",
   "execution_count": 9,
   "id": "20baac6c-c777-4e18-91dd-0142aa9d4400",
   "metadata": {},
   "outputs": [
    {
     "data": {
      "text/plain": [
       "['My name is Ryan Mitchell', ' I live in Boston', '']"
      ]
     },
     "execution_count": 9,
     "metadata": {},
     "output_type": "execute_result"
    }
   ],
   "source": [
    "mystring = 'My name is Ryan Mitchell. I live in Boston.'\n",
    "mystring.split('.')"
   ]
  },
  {
   "cell_type": "code",
   "execution_count": 10,
   "id": "42dd5d58-c94a-48a3-9567-99a88732545a",
   "metadata": {},
   "outputs": [
    {
     "data": {
      "text/plain": [
       "['My', 'name', 'is', 'Ryan', 'Mitchell.', 'I', 'live', 'in', 'Boston.']"
      ]
     },
     "execution_count": 10,
     "metadata": {},
     "output_type": "execute_result"
    }
   ],
   "source": [
    "mystring.split()"
   ]
  },
  {
   "cell_type": "code",
   "execution_count": 16,
   "id": "84c194b5-6b22-4a10-8362-5f6c38656bf5",
   "metadata": {},
   "outputs": [
    {
     "data": {
      "text/plain": [
       "['my', 'name', 'is', 'ryan', 'mitchell', 'i', 'live', 'in', 'boston']"
      ]
     },
     "execution_count": 16,
     "metadata": {},
     "output_type": "execute_result"
    }
   ],
   "source": [
    "def clearnWord(word):\n",
    "    return word.replace('.', '').lower()\n",
    "\n",
    "[clearnWord(word) for word in mystring.split()]\n"
   ]
  },
  {
   "cell_type": "code",
   "execution_count": 19,
   "id": "8d528974-b13a-4410-b01e-31b9e2e2c690",
   "metadata": {},
   "outputs": [
    {
     "data": {
      "text/plain": [
       "['my', 'is', 'i', 'in']"
      ]
     },
     "execution_count": 19,
     "metadata": {},
     "output_type": "execute_result"
    }
   ],
   "source": [
    "[clearnWord(word) for word in mystring.split() if len(clearnWord(word)) < 3]"
   ]
  },
  {
   "cell_type": "code",
   "execution_count": 22,
   "id": "bd15c146-34a7-4aa5-af97-2e9f44f2fc23",
   "metadata": {},
   "outputs": [
    {
     "data": {
      "text/plain": [
       "[['my', 'name', 'is', 'ryan', 'mitchell'], ['i', 'live', 'in', 'boston'], []]"
      ]
     },
     "execution_count": 22,
     "metadata": {},
     "output_type": "execute_result"
    }
   ],
   "source": [
    "[[clearnWord(word) for word in sentence.split()] for sentence in mystring.split('.')]"
   ]
  },
  {
   "cell_type": "code",
   "execution_count": null,
   "id": "f261c4f9-5c8a-4b1f-8506-deca6b6ea02c",
   "metadata": {},
   "outputs": [],
   "source": []
  }
 ],
 "metadata": {
  "kernelspec": {
   "display_name": "Python 3 (ipykernel)",
   "language": "python",
   "name": "python3"
  },
  "language_info": {
   "codemirror_mode": {
    "name": "ipython",
    "version": 3
   },
   "file_extension": ".py",
   "mimetype": "text/x-python",
   "name": "python",
   "nbconvert_exporter": "python",
   "pygments_lexer": "ipython3",
   "version": "3.11.0"
  }
 },
 "nbformat": 4,
 "nbformat_minor": 5
}
