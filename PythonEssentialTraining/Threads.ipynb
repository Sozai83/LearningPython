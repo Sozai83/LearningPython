{
 "cells": [
  {
   "cell_type": "code",
   "execution_count": 1,
   "id": "700ebd1a-cac3-449b-b277-1065c9074ee3",
   "metadata": {},
   "outputs": [],
   "source": [
    "import threading\n",
    "import time"
   ]
  },
  {
   "cell_type": "markdown",
   "id": "1bf7b246-7240-4147-8f2e-976e9ae02637",
   "metadata": {},
   "source": [
    "Threads"
   ]
  },
  {
   "cell_type": "code",
   "execution_count": 2,
   "id": "b21a2dcb-244d-4894-9666-fd9d197ce10e",
   "metadata": {},
   "outputs": [
    {
     "data": {
      "text/plain": [
       "[0, 1, 4, 9, 16]"
      ]
     },
     "execution_count": 2,
     "metadata": {},
     "output_type": "execute_result"
    }
   ],
   "source": [
    "def longSquare(num):\n",
    "    time.sleep(1)\n",
    "    return num**2\n",
    "\n",
    "[longSquare(n) for n in range(0,5)]\n",
    "\n"
   ]
  },
  {
   "cell_type": "code",
   "execution_count": 12,
   "id": "11643316-98e6-448c-a63e-662ebaee97d9",
   "metadata": {},
   "outputs": [],
   "source": [
    "t1 = threading.Thread(target=longSquare, args=(1,))\n",
    "t2 = threading.Thread(target=longSquare, args=(2,))\n",
    "\n",
    "t1.start()\n",
    "t2.start()\n",
    "\n",
    "t1.join()\n",
    "t2.join()"
   ]
  },
  {
   "cell_type": "code",
   "execution_count": 13,
   "id": "c4140664-7040-428f-9bb3-5909b71d915f",
   "metadata": {},
   "outputs": [
    {
     "name": "stdout",
     "output_type": "stream",
     "text": [
      "{1: 1, 2: 4}\n"
     ]
    }
   ],
   "source": [
    "results = {}\n",
    "\n",
    "def longSquare(num):\n",
    "    time.sleep(1)\n",
    "    results[num] = num ** 2\n",
    "\n",
    "t1 = threading.Thread(target=longSquare, args=(1,))\n",
    "t2 = threading.Thread(target=longSquare, args=(2,))\n",
    "\n",
    "t1.start()\n",
    "t2.start()\n",
    "\n",
    "t1.join()\n",
    "t2.join()\n",
    "\n",
    "print(results)"
   ]
  },
  {
   "cell_type": "code",
   "execution_count": 30,
   "id": "4922eacb-cdc0-41f6-863d-05834b67825f",
   "metadata": {},
   "outputs": [
    {
     "name": "stdout",
     "output_type": "stream",
     "text": [
      "{0: 0, 8: 64, 9: 81, 7: 49, 1: 1, 2: 4, 6: 36, 5: 25, 3: 9, 10: 100, 4: 16, 16: 256, 12: 144, 14: 196, 13: 169, 11: 121, 15: 225, 23: 529, 19: 361, 17: 289, 21: 441, 20: 400, 18: 324, 22: 484, 31: 961, 29: 841, 28: 784, 24: 576, 25: 625, 26: 676, 27: 729, 30: 900, 32: 1024, 38: 1444, 33: 1089, 35: 1225, 36: 1296, 34: 1156, 37: 1369, 39: 1521, 45: 2025, 44: 1936, 46: 2116, 43: 1849, 41: 1681, 40: 1600, 42: 1764, 52: 2704, 51: 2601, 50: 2500, 49: 2401, 47: 2209, 48: 2304, 60: 3600, 58: 3364, 57: 3249, 59: 3481, 56: 3136, 54: 2916, 53: 2809, 55: 3025, 62: 3844, 66: 4356, 65: 4225, 64: 4096, 61: 3721, 63: 3969, 71: 5041, 72: 5184, 70: 4900, 69: 4761, 68: 4624, 67: 4489, 77: 5929, 78: 6084, 73: 5329, 79: 6241, 75: 5625, 76: 5776, 74: 5476, 86: 7396, 85: 7225, 83: 6889, 81: 6561, 80: 6400, 84: 7056, 82: 6724, 93: 8649, 92: 8464, 91: 8281, 90: 8100, 89: 7921, 87: 7569, 88: 7744, 99: 9801, 97: 9409, 98: 9604, 96: 9216, 94: 8836, 95: 9025}\n"
     ]
    }
   ],
   "source": [
    "def longSquare(num, results):\n",
    "    time.sleep(1)\n",
    "    results[num] = num ** 2\n",
    "\n",
    "\n",
    "results = {}\n",
    "threads = [threading.Thread(target=longSquare, args=(n, results)) for n in range(0,100)]\n",
    "[t.start() for t in threads]\n",
    "[t.join() for t in threads]\n",
    "print(results)"
   ]
  },
  {
   "cell_type": "code",
   "execution_count": null,
   "id": "4bba56dc-75df-459b-bbf9-80630384be9c",
   "metadata": {},
   "outputs": [],
   "source": []
  }
 ],
 "metadata": {
  "kernelspec": {
   "display_name": "Python 3 (ipykernel)",
   "language": "python",
   "name": "python3"
  },
  "language_info": {
   "codemirror_mode": {
    "name": "ipython",
    "version": 3
   },
   "file_extension": ".py",
   "mimetype": "text/x-python",
   "name": "python",
   "nbconvert_exporter": "python",
   "pygments_lexer": "ipython3",
   "version": "3.11.0"
  }
 },
 "nbformat": 4,
 "nbformat_minor": 5
}
