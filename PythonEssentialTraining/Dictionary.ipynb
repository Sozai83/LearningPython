{
 "cells": [
  {
   "cell_type": "markdown",
   "id": "0790f10d-216a-4765-a546-2c143f62abef",
   "metadata": {},
   "source": [
    "Dictionaries"
   ]
  },
  {
   "cell_type": "code",
   "execution_count": 34,
   "id": "e79bae5d-5ae8-4613-b38e-c509688abcef",
   "metadata": {},
   "outputs": [],
   "source": [
    "from collections import defaultdict"
   ]
  },
  {
   "cell_type": "code",
   "execution_count": 10,
   "id": "7c82821f-44ab-4d19-a18d-edd022ad51e1",
   "metadata": {},
   "outputs": [
    {
     "data": {
      "text/plain": [
       "{'a': 'aardvark', 'b': 'bear', 'c': 'cat'}"
      ]
     },
     "execution_count": 10,
     "metadata": {},
     "output_type": "execute_result"
    }
   ],
   "source": [
    "animals = {\n",
    "    'a' : 'aardvark',\n",
    "    'b' : 'bear',\n",
    "    'c' : 'cat',\n",
    "}\n",
    "animals"
   ]
  },
  {
   "cell_type": "code",
   "execution_count": 11,
   "id": "b45de48c-2ca4-4550-b522-184746732756",
   "metadata": {},
   "outputs": [
    {
     "data": {
      "text/plain": [
       "dict_values(['aardvark', 'bear', 'cat'])"
      ]
     },
     "execution_count": 11,
     "metadata": {},
     "output_type": "execute_result"
    }
   ],
   "source": [
    "animals.values()"
   ]
  },
  {
   "cell_type": "code",
   "execution_count": 12,
   "id": "17fdbb45-667c-45d9-bcf7-6ef149285969",
   "metadata": {},
   "outputs": [
    {
     "data": {
      "text/plain": [
       "dict_keys(['a', 'b', 'c'])"
      ]
     },
     "execution_count": 12,
     "metadata": {},
     "output_type": "execute_result"
    }
   ],
   "source": [
    "animals.keys()"
   ]
  },
  {
   "cell_type": "code",
   "execution_count": 13,
   "id": "96c6cebf-6577-4bbd-8a1f-caaec8d8d296",
   "metadata": {},
   "outputs": [
    {
     "data": {
      "text/plain": [
       "['a', 'b', 'c']"
      ]
     },
     "execution_count": 13,
     "metadata": {},
     "output_type": "execute_result"
    }
   ],
   "source": [
    "list(animals.keys())"
   ]
  },
  {
   "cell_type": "code",
   "execution_count": 14,
   "id": "9d819f90-0884-4234-ae37-ac1306e7aec4",
   "metadata": {},
   "outputs": [
    {
     "ename": "KeyError",
     "evalue": "'e'",
     "output_type": "error",
     "traceback": [
      "\u001b[1;31m---------------------------------------------------------------------------\u001b[0m",
      "\u001b[1;31mKeyError\u001b[0m                                  Traceback (most recent call last)",
      "Cell \u001b[1;32mIn[14], line 1\u001b[0m\n\u001b[1;32m----> 1\u001b[0m \u001b[43manimals\u001b[49m\u001b[43m[\u001b[49m\u001b[38;5;124;43m'\u001b[39;49m\u001b[38;5;124;43me\u001b[39;49m\u001b[38;5;124;43m'\u001b[39;49m\u001b[43m]\u001b[49m\n",
      "\u001b[1;31mKeyError\u001b[0m: 'e'"
     ]
    }
   ],
   "source": [
    "animals['e']"
   ]
  },
  {
   "cell_type": "code",
   "execution_count": 15,
   "id": "4b062de5-76cf-4b60-b590-2ba155dd1d9e",
   "metadata": {},
   "outputs": [
    {
     "data": {
      "text/plain": [
       "'aardvark'"
      ]
     },
     "execution_count": 15,
     "metadata": {},
     "output_type": "execute_result"
    }
   ],
   "source": [
    "animals.get('a','elephant')"
   ]
  },
  {
   "cell_type": "code",
   "execution_count": 16,
   "id": "f36b936f-dcad-4f4b-a46c-1b3e917c8932",
   "metadata": {},
   "outputs": [
    {
     "data": {
      "text/plain": [
       "'elephant'"
      ]
     },
     "execution_count": 16,
     "metadata": {},
     "output_type": "execute_result"
    }
   ],
   "source": [
    "animals.get('e','elephant')"
   ]
  },
  {
   "cell_type": "code",
   "execution_count": 17,
   "id": "03d895e7-6de0-40b0-8fa3-f7dcea48783e",
   "metadata": {},
   "outputs": [
    {
     "data": {
      "text/plain": [
       "{'a': ['aardvark', 'antelope'], 'b': ['bear']}"
      ]
     },
     "execution_count": 17,
     "metadata": {},
     "output_type": "execute_result"
    }
   ],
   "source": [
    "animals2 = {\n",
    "    'a' : ['aardvark', 'antelope'],\n",
    "    'b': ['bear'],\n",
    "}\n",
    "animals2"
   ]
  },
  {
   "cell_type": "code",
   "execution_count": 26,
   "id": "f64c3ebf-ab50-40e7-ba53-f6513ae58ecc",
   "metadata": {},
   "outputs": [
    {
     "data": {
      "text/plain": [
       "{'a': ['aardvark', 'antelope'], 'b': ['bear', 'bison']}"
      ]
     },
     "execution_count": 26,
     "metadata": {},
     "output_type": "execute_result"
    }
   ],
   "source": [
    "animals2['b'].append('bison')\n",
    "animals2"
   ]
  },
  {
   "cell_type": "code",
   "execution_count": 27,
   "id": "b9ba8393-c624-4c5f-a1ba-0bfa3bd65851",
   "metadata": {},
   "outputs": [],
   "source": [
    "animals2['c'] = ['cat']"
   ]
  },
  {
   "cell_type": "code",
   "execution_count": 28,
   "id": "e585f7d0-6f31-461c-b0e2-13f5f1851603",
   "metadata": {},
   "outputs": [
    {
     "data": {
      "text/plain": [
       "{'a': ['aardvark', 'antelope'], 'b': ['bear', 'bison'], 'c': ['cat']}"
      ]
     },
     "execution_count": 28,
     "metadata": {},
     "output_type": "execute_result"
    }
   ],
   "source": [
    "animals2"
   ]
  },
  {
   "cell_type": "code",
   "execution_count": 29,
   "id": "8c95d9cb-94cb-4629-b098-efb61c4c910b",
   "metadata": {},
   "outputs": [],
   "source": [
    "if 'c' not in animals2:\n",
    "    animals2['c'] = []\n",
    "\n",
    "animals2['c'].append('cow')\n"
   ]
  },
  {
   "cell_type": "code",
   "execution_count": 30,
   "id": "11ff3441-4e09-48cd-9972-05d1ce6c962f",
   "metadata": {},
   "outputs": [
    {
     "data": {
      "text/plain": [
       "{'a': ['aardvark', 'antelope'], 'b': ['bear', 'bison'], 'c': ['cat', 'cow']}"
      ]
     },
     "execution_count": 30,
     "metadata": {},
     "output_type": "execute_result"
    }
   ],
   "source": [
    "animals2"
   ]
  },
  {
   "cell_type": "code",
   "execution_count": 35,
   "id": "352f9356-28e4-4423-b024-f98d1af6e12e",
   "metadata": {},
   "outputs": [],
   "source": [
    "animals = defaultdict(list)"
   ]
  },
  {
   "cell_type": "code",
   "execution_count": 36,
   "id": "6a0cb14f-3137-47c5-bdce-094b768fa736",
   "metadata": {},
   "outputs": [
    {
     "data": {
      "text/plain": [
       "defaultdict(list, {})"
      ]
     },
     "execution_count": 36,
     "metadata": {},
     "output_type": "execute_result"
    }
   ],
   "source": [
    "animals"
   ]
  },
  {
   "cell_type": "code",
   "execution_count": 37,
   "id": "a356e0b1-74f3-4b7e-845d-7eb3bf8617e8",
   "metadata": {},
   "outputs": [],
   "source": [
    "animals['e'].append('elephant')"
   ]
  },
  {
   "cell_type": "code",
   "execution_count": 38,
   "id": "77692612-dce7-442b-896c-9b21a194a292",
   "metadata": {},
   "outputs": [
    {
     "data": {
      "text/plain": [
       "defaultdict(list, {'e': ['elephant']})"
      ]
     },
     "execution_count": 38,
     "metadata": {},
     "output_type": "execute_result"
    }
   ],
   "source": [
    "animals"
   ]
  },
  {
   "cell_type": "code",
   "execution_count": 39,
   "id": "35697a27-122a-4301-b7e6-8727078cd22a",
   "metadata": {},
   "outputs": [],
   "source": [
    "animals['e'].append('emu')"
   ]
  },
  {
   "cell_type": "code",
   "execution_count": 40,
   "id": "1e91d517-95b8-4a83-af91-10658a297013",
   "metadata": {},
   "outputs": [
    {
     "data": {
      "text/plain": [
       "defaultdict(list, {'e': ['elephant', 'emu']})"
      ]
     },
     "execution_count": 40,
     "metadata": {},
     "output_type": "execute_result"
    }
   ],
   "source": [
    "animals"
   ]
  },
  {
   "cell_type": "code",
   "execution_count": 41,
   "id": "eae65d78-b442-480e-80c4-0d8feffed4d8",
   "metadata": {},
   "outputs": [
    {
     "data": {
      "text/plain": [
       "[]"
      ]
     },
     "execution_count": 41,
     "metadata": {},
     "output_type": "execute_result"
    }
   ],
   "source": [
    "animals['f']"
   ]
  },
  {
   "cell_type": "code",
   "execution_count": 42,
   "id": "fb102330-3823-489d-a3bd-3f9af52adbd3",
   "metadata": {},
   "outputs": [
    {
     "data": {
      "text/plain": [
       "defaultdict(list, {'e': ['elephant', 'emu'], 'f': []})"
      ]
     },
     "execution_count": 42,
     "metadata": {},
     "output_type": "execute_result"
    }
   ],
   "source": [
    "animals"
   ]
  },
  {
   "cell_type": "code",
   "execution_count": null,
   "id": "edfd8867-7a96-451c-9165-95b40949a782",
   "metadata": {},
   "outputs": [],
   "source": []
  }
 ],
 "metadata": {
  "kernelspec": {
   "display_name": "Python 3 (ipykernel)",
   "language": "python",
   "name": "python3"
  },
  "language_info": {
   "codemirror_mode": {
    "name": "ipython",
    "version": 3
   },
   "file_extension": ".py",
   "mimetype": "text/x-python",
   "name": "python",
   "nbconvert_exporter": "python",
   "pygments_lexer": "ipython3",
   "version": "3.11.0"
  }
 },
 "nbformat": 4,
 "nbformat_minor": 5
}
