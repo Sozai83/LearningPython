{
 "cells": [
  {
   "cell_type": "code",
   "execution_count": 10,
   "id": "08203925-b84a-4f30-b423-cea617f38d36",
   "metadata": {},
   "outputs": [
    {
     "name": "stdout",
     "output_type": "stream",
     "text": [
      "Rover\n",
      "4\n"
     ]
    }
   ],
   "source": [
    "class Dog:\n",
    "    def __init__(self, name):\n",
    "        _legs = 4\n",
    "        self.name = name\n",
    "        self.legs = 4\n",
    "    \n",
    "    def getLegs(self):\n",
    "        return self._legs\n",
    "        \n",
    "    def speak(self):\n",
    "        print(f'{self.name} says Bauwow!')\n",
    "\n",
    "myDog = Dog('Rover')\n",
    "print(myDog.name)\n",
    "print(myDog.legs)\n"
   ]
  },
  {
   "cell_type": "code",
   "execution_count": 14,
   "id": "12f7ef5d-dc42-4620-b5de-b77f9955cf59",
   "metadata": {},
   "outputs": [],
   "source": [
    "Dog.legs = 3"
   ]
  },
  {
   "cell_type": "code",
   "execution_count": 15,
   "id": "c6fec48c-b705-4d49-8711-0e49ce1faa0a",
   "metadata": {},
   "outputs": [
    {
     "name": "stdout",
     "output_type": "stream",
     "text": [
      "Rover\n",
      "4\n"
     ]
    }
   ],
   "source": [
    "myDog = Dog('Rover')\n",
    "print(myDog.name)\n",
    "print(myDog.legs)"
   ]
  },
  {
   "cell_type": "code",
   "execution_count": 26,
   "id": "96b619a6-fd06-4e5e-8fa5-bd9b4bb38e37",
   "metadata": {},
   "outputs": [
    {
     "name": "stdout",
     "output_type": "stream",
     "text": [
      "{'awant', 'another', 'i', 'sententce', 'heres', 'add', 'to', 'a'}\n"
     ]
    }
   ],
   "source": [
    "class WordSet:\n",
    "    replacePuncs = ['!', '.', ',','\\'']\n",
    "    def __init__(self):\n",
    "        self.words= set()\n",
    "\n",
    "    def addText(self, text):\n",
    "        text = WordSet.cleanText(text)\n",
    "        for word in text.split():\n",
    "            self.words.add(word)\n",
    "\n",
    "    def cleanText(text):\n",
    "        for punc in WordSet.replacePuncs:\n",
    "            text = text.replace(punc,'')\n",
    "        return text.lower()\n",
    "\n",
    "wordSet = WordSet()\n",
    "wordSet.addText('Here\\'s a sententce I awant to add!')\n",
    "wordSet.addText('Here\\'s another sententce I awant to add!')\n",
    "\n",
    "print(wordSet.words)"
   ]
  },
  {
   "cell_type": "code",
   "execution_count": 35,
   "id": "a24e0133-70fb-4887-bfe0-f43a6af2cec4",
   "metadata": {},
   "outputs": [
    {
     "name": "stdout",
     "output_type": "stream",
     "text": [
      "{'awant', 'another', 'i', 'sententce', 'heres', 'add', 'to', 'a'}\n"
     ]
    }
   ],
   "source": [
    "class WordSet:\n",
    "    replacePuncs = ['!', '.', ',','\\'']\n",
    "    def __init__(self):\n",
    "        self.words= set()\n",
    "\n",
    "    def addText(self, text):\n",
    "        text = self.cleanText(text)\n",
    "        for word in text.split():\n",
    "            self.words.add(word)\n",
    "\n",
    "    @staticmethod\n",
    "    def cleanText(text):\n",
    "        for punc in WordSet.replacePuncs:\n",
    "            text = text.replace(punc,'')\n",
    "        return text.lower()\n",
    "\n",
    "wordSet = WordSet()\n",
    "wordSet.addText('Here\\'s a sententce I awant to add!')\n",
    "wordSet.addText('Here\\'s another sententce I awant to add!')\n",
    "\n",
    "print(wordSet.words)"
   ]
  },
  {
   "cell_type": "code",
   "execution_count": 37,
   "id": "cdc66ee3-e42a-4e03-9a57-bda4e43127c8",
   "metadata": {},
   "outputs": [
    {
     "name": "stdout",
     "output_type": "stream",
     "text": [
      "Roxy says: Yap yap yap!\n",
      "Vigrous wagtail\n"
     ]
    }
   ],
   "source": [
    "class Chihuahua(Dog):\n",
    "\n",
    "    def speak(self):\n",
    "        print(f'{self.name} says: Yap yap yap!')\n",
    "\n",
    "    def wagTail(self):\n",
    "        print('Vigrous wagtail')\n",
    "        \n",
    "    pass\n",
    "\n",
    "dog = Chihuahua('Roxy')\n",
    "dog.speak()\n",
    "dog.wagTail()"
   ]
  },
  {
   "cell_type": "code",
   "execution_count": 53,
   "id": "59458496-ca85-410d-901f-76499bbdf560",
   "metadata": {},
   "outputs": [],
   "source": [
    "class UniqueList(list):\n",
    "    def __init__(self):\n",
    "        super().__init__()\n",
    "        self.someProperty = 'Unique List'\n",
    "    \n",
    "    def append(self, item):\n",
    "        if item in self:\n",
    "            return \n",
    "        super().append(item)\n",
    "\n"
   ]
  },
  {
   "cell_type": "code",
   "execution_count": 54,
   "id": "24275b3c-3f41-449d-95c4-09708b3c035c",
   "metadata": {},
   "outputs": [
    {
     "name": "stdout",
     "output_type": "stream",
     "text": [
      "[1, 2]\n",
      "Unique List\n"
     ]
    }
   ],
   "source": [
    "uniqueList = UniqueList()\n",
    "uniqueList.append(1)\n",
    "uniqueList.append(1)\n",
    "uniqueList.append(2)\n",
    "\n",
    "print(uniqueList)\n",
    "print(uniqueList.someProperty)"
   ]
  },
  {
   "cell_type": "code",
   "execution_count": null,
   "id": "27ed568f-0015-43d1-a79a-7e6b63a72ba9",
   "metadata": {},
   "outputs": [],
   "source": []
  }
 ],
 "metadata": {
  "kernelspec": {
   "display_name": "Python 3 (ipykernel)",
   "language": "python",
   "name": "python3"
  },
  "language_info": {
   "codemirror_mode": {
    "name": "ipython",
    "version": 3
   },
   "file_extension": ".py",
   "mimetype": "text/x-python",
   "name": "python",
   "nbconvert_exporter": "python",
   "pygments_lexer": "ipython3",
   "version": "3.11.0"
  }
 },
 "nbformat": 4,
 "nbformat_minor": 5
}
