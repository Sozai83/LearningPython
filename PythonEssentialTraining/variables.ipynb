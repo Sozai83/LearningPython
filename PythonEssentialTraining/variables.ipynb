{
 "cells": [
  {
   "cell_type": "code",
   "execution_count": 13,
   "id": "be1a32ce-91f8-4b46-8359-bd5c4130d190",
   "metadata": {},
   "outputs": [
    {
     "name": "stdout",
     "output_type": "stream",
     "text": [
      "Print is false\n",
      "Always print this\n"
     ]
    }
   ],
   "source": [
    "a = True\n",
    "b = True\n",
    "\n",
    "if a:\n",
    "    print('It is true')\n",
    "    print('Print this')\n",
    "    if b:\n",
    "        print('Both are true')\n",
    "else:\n",
    "    print('Print is false')\n",
    "\n",
    "print('Always print this')"
   ]
  },
  {
   "cell_type": "code",
   "execution_count": null,
   "id": "6ea73bd8",
   "metadata": {},
   "outputs": [],
   "source": []
  }
 ],
 "metadata": {
  "kernelspec": {
   "display_name": "Python 3 (ipykernel)",
   "language": "python",
   "name": "python3"
  },
  "language_info": {
   "codemirror_mode": {
    "name": "ipython",
    "version": 3
   },
   "file_extension": ".py",
   "mimetype": "text/x-python",
   "name": "python",
   "nbconvert_exporter": "python",
   "pygments_lexer": "ipython3",
   "version": "3.11.0"
  }
 },
 "nbformat": 4,
 "nbformat_minor": 5
}
