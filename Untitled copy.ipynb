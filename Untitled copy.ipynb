{
 "cells": [
  {
   "cell_type": "markdown",
   "id": "e4531d10-db42-4d52-bc0b-aa9d9a6b8f50",
   "metadata": {},
   "source": [
    "# Title\n",
    "## Sub title"
   ]
  },
  {
   "cell_type": "code",
   "execution_count": null,
   "id": "be1a32ce-91f8-4b46-8359-bd5c4130d190",
   "metadata": {},
   "outputs": [],
   "source": []
  },
  {
   "cell_type": "code",
   "execution_count": null,
   "id": "453c6466-6152-44d9-ab38-c930bf26278f",
   "metadata": {},
   "outputs": [],
   "source": []
  },
  {
   "cell_type": "code",
   "execution_count": 1,
   "id": "20c5d511-9b34-4464-b4b8-5e60dfa2783b",
   "metadata": {},
   "outputs": [
    {
     "name": "stdout",
     "output_type": "stream",
     "text": [
      "Print this\n"
     ]
    }
   ],
   "source": [
    "print ('Print this')"
   ]
  },
  {
   "cell_type": "code",
   "execution_count": null,
   "id": "240dc43c-2671-41df-9fd3-5352428f159a",
   "metadata": {},
   "outputs": [],
   "source": []
  }
 ],
 "metadata": {
  "kernelspec": {
   "display_name": "Python 3 (ipykernel)",
   "language": "python",
   "name": "python3"
  },
  "language_info": {
   "codemirror_mode": {
    "name": "ipython",
    "version": 3
   },
   "file_extension": ".py",
   "mimetype": "text/x-python",
   "name": "python",
   "nbconvert_exporter": "python",
   "pygments_lexer": "ipython3",
   "version": "3.10.11"
  }
 },
 "nbformat": 4,
 "nbformat_minor": 5
}
